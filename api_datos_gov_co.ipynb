{
 "cells": [
  {
   "cell_type": "markdown",
   "metadata": {},
   "source": [
    "# Precios de Combustibles - MinMinasEconomía y Finanzas\n",
    "En este conjunto de Datos se tiene los precios de venta del combustible reportados por las Estaciones de Servicio (EDS) acorde al precio regulado o de mercado\n",
    "### Actualizado 16 de agosto de 2017\n",
    "### Datos proporcionados por\n",
    "* Ministerio de Minas y Energía\n",
    "\n",
    "(API socrata)"
   ]
  },
  {
   "cell_type": "code",
   "execution_count": 1,
   "metadata": {},
   "outputs": [
    {
     "name": "stdout",
     "output_type": "stream",
     "text": [
      "0.20.3\n"
     ]
    }
   ],
   "source": [
    "import pandas as pd\n",
    "print(pd.__version__)"
   ]
  },
  {
   "cell_type": "code",
   "execution_count": 5,
   "metadata": {},
   "outputs": [],
   "source": [
    "df = pd.read_json(\"https://www.datos.gov.co/resource/3a4x-4hwu.json\")"
   ]
  },
  {
   "cell_type": "markdown",
   "metadata": {},
   "source": [
    "* Los primeros cuatro datos:"
   ]
  },
  {
   "cell_type": "code",
   "execution_count": 8,
   "metadata": {},
   "outputs": [
    {
     "data": {
      "text/html": [
       "<div>\n",
       "<style>\n",
       "    .dataframe thead tr:only-child th {\n",
       "        text-align: right;\n",
       "    }\n",
       "\n",
       "    .dataframe thead th {\n",
       "        text-align: left;\n",
       "    }\n",
       "\n",
       "    .dataframe tbody tr th {\n",
       "        vertical-align: top;\n",
       "    }\n",
       "</style>\n",
       "<table border=\"1\" class=\"dataframe\">\n",
       "  <thead>\n",
       "    <tr style=\"text-align: right;\">\n",
       "      <th></th>\n",
       "      <th>bandera</th>\n",
       "      <th>codigodpto</th>\n",
       "      <th>codigomunicipio</th>\n",
       "      <th>departamento</th>\n",
       "      <th>direccion</th>\n",
       "      <th>estado</th>\n",
       "      <th>fecharegistro</th>\n",
       "      <th>municipio</th>\n",
       "      <th>nombrecomercial</th>\n",
       "      <th>periodo</th>\n",
       "      <th>precio</th>\n",
       "      <th>producto</th>\n",
       "    </tr>\n",
       "  </thead>\n",
       "  <tbody>\n",
       "    <tr>\n",
       "      <th>0</th>\n",
       "      <td>MOBIL</td>\n",
       "      <td>5</td>\n",
       "      <td>1</td>\n",
       "      <td>ANTIOQUIA</td>\n",
       "      <td>Diagonal 80 No.76-95</td>\n",
       "      <td>Activo</td>\n",
       "      <td>2016-02-18T00:00:00.000</td>\n",
       "      <td>MEDELLIN</td>\n",
       "      <td>ESSO LA 80</td>\n",
       "      <td>2016-02-01T00:00:00.000</td>\n",
       "      <td>7390</td>\n",
       "      <td>BIODIESEL EXTRA</td>\n",
       "    </tr>\n",
       "    <tr>\n",
       "      <th>1</th>\n",
       "      <td>MOBIL</td>\n",
       "      <td>68</td>\n",
       "      <td>1</td>\n",
       "      <td>SANTANDER</td>\n",
       "      <td>Calle 17 No.19-62</td>\n",
       "      <td>Activo</td>\n",
       "      <td>2016-02-24T00:00:00.000</td>\n",
       "      <td>BUCARAMANGA</td>\n",
       "      <td>LA GACELA</td>\n",
       "      <td>2016-02-01T00:00:00.000</td>\n",
       "      <td>7221</td>\n",
       "      <td>BIODIESEL EXTRA</td>\n",
       "    </tr>\n",
       "    <tr>\n",
       "      <th>2</th>\n",
       "      <td>MOBIL</td>\n",
       "      <td>52</td>\n",
       "      <td>1</td>\n",
       "      <td>NARIÑO</td>\n",
       "      <td>CALLE 22 N 9 ESTE 20 VIA ORIENTE</td>\n",
       "      <td>Activo</td>\n",
       "      <td>2016-06-04T00:00:00.000</td>\n",
       "      <td>SAN JUAN DE PASTO</td>\n",
       "      <td>COOPERATIVA DE TRANSPORTADORES URBANOS CIUDAD ...</td>\n",
       "      <td>2016-04-01T00:00:00.000</td>\n",
       "      <td>5690</td>\n",
       "      <td>BIODIESEL EXTRA</td>\n",
       "    </tr>\n",
       "    <tr>\n",
       "      <th>3</th>\n",
       "      <td>TERPEL</td>\n",
       "      <td>68</td>\n",
       "      <td>397</td>\n",
       "      <td>SANTANDER</td>\n",
       "      <td>CARRERA 3 No. 5-04</td>\n",
       "      <td>Activo</td>\n",
       "      <td>2016-04-02T00:00:00.000</td>\n",
       "      <td>LA PAZ</td>\n",
       "      <td>ESTACION DE SERVICIO GERSAN</td>\n",
       "      <td>2016-02-01T00:00:00.000</td>\n",
       "      <td>7650</td>\n",
       "      <td>BIODIESEL EXTRA</td>\n",
       "    </tr>\n",
       "  </tbody>\n",
       "</table>\n",
       "</div>"
      ],
      "text/plain": [
       "  bandera  codigodpto  codigomunicipio departamento  \\\n",
       "0   MOBIL           5                1    ANTIOQUIA   \n",
       "1   MOBIL          68                1    SANTANDER   \n",
       "2   MOBIL          52                1       NARIÑO   \n",
       "3  TERPEL          68              397    SANTANDER   \n",
       "\n",
       "                          direccion  estado            fecharegistro  \\\n",
       "0              Diagonal 80 No.76-95  Activo  2016-02-18T00:00:00.000   \n",
       "1                 Calle 17 No.19-62  Activo  2016-02-24T00:00:00.000   \n",
       "2  CALLE 22 N 9 ESTE 20 VIA ORIENTE  Activo  2016-06-04T00:00:00.000   \n",
       "3                CARRERA 3 No. 5-04  Activo  2016-04-02T00:00:00.000   \n",
       "\n",
       "           municipio                                    nombrecomercial  \\\n",
       "0           MEDELLIN                                         ESSO LA 80   \n",
       "1        BUCARAMANGA                                          LA GACELA   \n",
       "2  SAN JUAN DE PASTO  COOPERATIVA DE TRANSPORTADORES URBANOS CIUDAD ...   \n",
       "3             LA PAZ                        ESTACION DE SERVICIO GERSAN   \n",
       "\n",
       "                   periodo  precio         producto  \n",
       "0  2016-02-01T00:00:00.000    7390  BIODIESEL EXTRA  \n",
       "1  2016-02-01T00:00:00.000    7221  BIODIESEL EXTRA  \n",
       "2  2016-04-01T00:00:00.000    5690  BIODIESEL EXTRA  \n",
       "3  2016-02-01T00:00:00.000    7650  BIODIESEL EXTRA  "
      ]
     },
     "execution_count": 8,
     "metadata": {},
     "output_type": "execute_result"
    }
   ],
   "source": [
    "df.head(4)"
   ]
  },
  {
   "cell_type": "markdown",
   "metadata": {},
   "source": [
    "* Ver cuantas filas y columnas tiene el data set"
   ]
  },
  {
   "cell_type": "code",
   "execution_count": 9,
   "metadata": {},
   "outputs": [
    {
     "data": {
      "text/plain": [
       "(1000, 12)"
      ]
     },
     "execution_count": 9,
     "metadata": {},
     "output_type": "execute_result"
    }
   ],
   "source": [
    "df.shape"
   ]
  },
  {
   "cell_type": "markdown",
   "metadata": {},
   "source": [
    "* Retorna estadisticas de las columnas númericas en el dataset"
   ]
  },
  {
   "cell_type": "code",
   "execution_count": 11,
   "metadata": {},
   "outputs": [
    {
     "data": {
      "text/html": [
       "<div>\n",
       "<style>\n",
       "    .dataframe thead tr:only-child th {\n",
       "        text-align: right;\n",
       "    }\n",
       "\n",
       "    .dataframe thead th {\n",
       "        text-align: left;\n",
       "    }\n",
       "\n",
       "    .dataframe tbody tr th {\n",
       "        vertical-align: top;\n",
       "    }\n",
       "</style>\n",
       "<table border=\"1\" class=\"dataframe\">\n",
       "  <thead>\n",
       "    <tr style=\"text-align: right;\">\n",
       "      <th></th>\n",
       "      <th>codigodpto</th>\n",
       "      <th>codigomunicipio</th>\n",
       "      <th>precio</th>\n",
       "    </tr>\n",
       "  </thead>\n",
       "  <tbody>\n",
       "    <tr>\n",
       "      <th>count</th>\n",
       "      <td>1000.000000</td>\n",
       "      <td>1000.000000</td>\n",
       "      <td>1000.000000</td>\n",
       "    </tr>\n",
       "    <tr>\n",
       "      <th>mean</th>\n",
       "      <td>19.509000</td>\n",
       "      <td>264.317000</td>\n",
       "      <td>8007.268000</td>\n",
       "    </tr>\n",
       "    <tr>\n",
       "      <th>std</th>\n",
       "      <td>23.850005</td>\n",
       "      <td>236.182138</td>\n",
       "      <td>1187.880737</td>\n",
       "    </tr>\n",
       "    <tr>\n",
       "      <th>min</th>\n",
       "      <td>5.000000</td>\n",
       "      <td>1.000000</td>\n",
       "      <td>4800.000000</td>\n",
       "    </tr>\n",
       "    <tr>\n",
       "      <th>25%</th>\n",
       "      <td>5.000000</td>\n",
       "      <td>88.000000</td>\n",
       "      <td>7470.000000</td>\n",
       "    </tr>\n",
       "    <tr>\n",
       "      <th>50%</th>\n",
       "      <td>5.000000</td>\n",
       "      <td>233.500000</td>\n",
       "      <td>7737.000000</td>\n",
       "    </tr>\n",
       "    <tr>\n",
       "      <th>75%</th>\n",
       "      <td>25.000000</td>\n",
       "      <td>364.000000</td>\n",
       "      <td>8160.000000</td>\n",
       "    </tr>\n",
       "    <tr>\n",
       "      <th>max</th>\n",
       "      <td>99.000000</td>\n",
       "      <td>899.000000</td>\n",
       "      <td>11800.000000</td>\n",
       "    </tr>\n",
       "  </tbody>\n",
       "</table>\n",
       "</div>"
      ],
      "text/plain": [
       "        codigodpto  codigomunicipio        precio\n",
       "count  1000.000000      1000.000000   1000.000000\n",
       "mean     19.509000       264.317000   8007.268000\n",
       "std      23.850005       236.182138   1187.880737\n",
       "min       5.000000         1.000000   4800.000000\n",
       "25%       5.000000        88.000000   7470.000000\n",
       "50%       5.000000       233.500000   7737.000000\n",
       "75%      25.000000       364.000000   8160.000000\n",
       "max      99.000000       899.000000  11800.000000"
      ]
     },
     "execution_count": 11,
     "metadata": {},
     "output_type": "execute_result"
    }
   ],
   "source": [
    "df.describe()"
   ]
  },
  {
   "cell_type": "code",
   "execution_count": 12,
   "metadata": {},
   "outputs": [
    {
     "data": {
      "text/plain": [
       "bandera            object\n",
       "codigodpto          int64\n",
       "codigomunicipio     int64\n",
       "departamento       object\n",
       "direccion          object\n",
       "estado             object\n",
       "fecharegistro      object\n",
       "municipio          object\n",
       "nombrecomercial    object\n",
       "periodo            object\n",
       "precio              int64\n",
       "producto           object\n",
       "dtype: object"
      ]
     },
     "execution_count": 12,
     "metadata": {},
     "output_type": "execute_result"
    }
   ],
   "source": [
    "df.dtypes"
   ]
  },
  {
   "cell_type": "code",
   "execution_count": null,
   "metadata": {
    "collapsed": true
   },
   "outputs": [],
   "source": []
  }
 ],
 "metadata": {
  "kernelspec": {
   "display_name": "Python 3",
   "language": "python",
   "name": "python3"
  },
  "language_info": {
   "codemirror_mode": {
    "name": "ipython",
    "version": 3
   },
   "file_extension": ".py",
   "mimetype": "text/x-python",
   "name": "python",
   "nbconvert_exporter": "python",
   "pygments_lexer": "ipython3",
   "version": "3.5.3"
  }
 },
 "nbformat": 4,
 "nbformat_minor": 2
}
